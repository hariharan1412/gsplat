{
 "cells": [
  {
   "cell_type": "code",
   "execution_count": 1,
   "metadata": {},
   "outputs": [],
   "source": [
    "import numpy as np\n",
    "import torch\n",
    "import torch.nn.functional as F\n",
    "import torch\n",
    "import numpy as np\n",
    "from plyfile import PlyData\n",
    "import json \n",
    "device = torch.device(\"cuda:0\")"
   ]
  },
  {
   "cell_type": "code",
   "execution_count": 2,
   "metadata": {},
   "outputs": [],
   "source": [
    "PLY_PATH = \"/home/ubuntu/workdir/gsplat/DATA/alti/splat.ply\"\n",
    "ply_data = PlyData.read(PLY_PATH)\n",
    "vertices = ply_data['vertex']"
   ]
  },
  {
   "cell_type": "code",
   "execution_count": 3,
   "metadata": {},
   "outputs": [],
   "source": [
    "with open('/home/ubuntu/workdir/gsplat/DATA/alti/transforms.json', 'r') as f:\n",
    "    transforms_data = json.load(f)\n",
    "\n",
    "transform_matrix = [frame[\"transform_matrix\"] for frame in transforms_data[\"frames\"]]"
   ]
  },
  {
   "cell_type": "code",
   "execution_count": 4,
   "metadata": {},
   "outputs": [],
   "source": [
    "points = np.stack((vertices['x'], vertices['y'], vertices['z']), axis=-1)\n",
    "colors = np.stack((vertices['f_dc_0'], vertices['f_dc_1'], vertices['f_dc_2']), axis=-1)\n",
    "scales = np.stack((vertices['scale_0'], vertices['scale_1'], vertices['scale_2']), axis=-1)\n",
    "quats = np.stack((vertices['rot_0'], vertices['rot_1'], vertices['rot_2'], vertices['rot_3']), axis=-1)\n",
    "opacities = vertices['opacity']"
   ]
  },
  {
   "cell_type": "code",
   "execution_count": 5,
   "metadata": {},
   "outputs": [],
   "source": [
    "num_points_to_keep = 74986 - 73000\n",
    "\n",
    "# means = means[-num_points_to_keep:]\n",
    "# colors = colors[-num_points_to_keep:]\n",
    "# scales = scales[-num_points_to_keep:]\n",
    "# quats = quats[-num_points_to_keep:]\n",
    "# opacities = opacities[-num_points_to_keep:]"
   ]
  },
  {
   "cell_type": "code",
   "execution_count": 6,
   "metadata": {},
   "outputs": [],
   "source": [
    "means = torch.from_numpy(points[-num_points_to_keep:]).to(device)\n",
    "scales = torch.from_numpy(scales[-num_points_to_keep:]).to(device) * 0.1\n",
    "quats = torch.from_numpy(quats[-num_points_to_keep:]).to(device)\n",
    "opacities = torch.from_numpy(opacities[-num_points_to_keep:]).to(device)\n",
    "opacities = opacities.squeeze()"
   ]
  },
  {
   "cell_type": "code",
   "execution_count": 7,
   "metadata": {},
   "outputs": [
    {
     "data": {
      "text/plain": [
       "torch.Size([4986, 3])"
      ]
     },
     "execution_count": 7,
     "metadata": {},
     "output_type": "execute_result"
    }
   ],
   "source": [
    "means.shape"
   ]
  },
  {
   "cell_type": "code",
   "execution_count": 8,
   "metadata": {},
   "outputs": [],
   "source": [
    "viewmats = torch.tensor(transform_matrix, dtype=torch.float32).to(device)\n",
    "N = viewmats.shape[0]  # Assuming viewmats is [C, 4, 4]\n",
    "Ks = torch.tensor([[319.0, 0.0, 320.0],\n",
    "                    [0.0, 341.0, 320.0],\n",
    "                    [0.0, 0.0, 1.0]]).unsqueeze(0).to(device=device)  # Single camera matrix\n",
    "Ks = Ks.repeat(N, 1, 1)  \n",
    "C = len(Ks)\n",
    "\n",
    "colors = torch.from_numpy(colors[-num_points_to_keep:]).to(device)\n",
    "colors = colors.unsqueeze(0).repeat(N, 1, 1)"
   ]
  },
  {
   "cell_type": "code",
   "execution_count": 9,
   "metadata": {},
   "outputs": [],
   "source": [
    "width=480\n",
    "height=360"
   ]
  },
  {
   "cell_type": "code",
   "execution_count": 10,
   "metadata": {},
   "outputs": [],
   "source": [
    "def test_rasterize_to_pixels():\n",
    "    from gsplat.experimental.cuda import _rendering, _rendering_gsplat, rendering, quat_scale_to_covar_perci, projection, isect_tiles, isect_offset_encode, rasterize_to_pixels\n",
    "    \n",
    "    viewmats.requires_grad = True\n",
    "    quats.requires_grad = True\n",
    "    scales.requires_grad = True\n",
    "    means.requires_grad = True\n",
    "\n",
    "    render_colors, render_alphas = _rendering(\n",
    "        means, quats, scales, opacities, colors, viewmats, Ks, width, height\n",
    "    )\n",
    "    \n",
    "    return render_colors, render_alphas"
   ]
  },
  {
   "cell_type": "code",
   "execution_count": 11,
   "metadata": {},
   "outputs": [
    {
     "ename": "OutOfMemoryError",
     "evalue": "CUDA out of memory. Tried to allocate 5.42 GiB. GPU 0 has a total capacty of 39.38 GiB of which 4.62 GiB is free. Including non-PyTorch memory, this process has 34.75 GiB memory in use. Of the allocated memory 31.65 GiB is allocated by PyTorch, and 2.62 GiB is reserved by PyTorch but unallocated. If reserved but unallocated memory is large try setting max_split_size_mb to avoid fragmentation.  See documentation for Memory Management and PYTORCH_CUDA_ALLOC_CONF",
     "output_type": "error",
     "traceback": [
      "\u001b[0;31m---------------------------------------------------------------------------\u001b[0m",
      "\u001b[0;31mOutOfMemoryError\u001b[0m                          Traceback (most recent call last)",
      "Cell \u001b[0;32mIn[11], line 1\u001b[0m\n\u001b[0;32m----> 1\u001b[0m render_colors, render_alphs \u001b[38;5;241m=\u001b[39m \u001b[43mtest_rasterize_to_pixels\u001b[49m\u001b[43m(\u001b[49m\u001b[43m)\u001b[49m\n",
      "Cell \u001b[0;32mIn[10], line 9\u001b[0m, in \u001b[0;36mtest_rasterize_to_pixels\u001b[0;34m()\u001b[0m\n\u001b[1;32m      6\u001b[0m scales\u001b[38;5;241m.\u001b[39mrequires_grad \u001b[38;5;241m=\u001b[39m \u001b[38;5;28;01mTrue\u001b[39;00m\n\u001b[1;32m      7\u001b[0m means\u001b[38;5;241m.\u001b[39mrequires_grad \u001b[38;5;241m=\u001b[39m \u001b[38;5;28;01mTrue\u001b[39;00m\n\u001b[0;32m----> 9\u001b[0m render_colors, render_alphas \u001b[38;5;241m=\u001b[39m \u001b[43m_rendering\u001b[49m\u001b[43m(\u001b[49m\n\u001b[1;32m     10\u001b[0m \u001b[43m    \u001b[49m\u001b[43mmeans\u001b[49m\u001b[43m,\u001b[49m\u001b[43m \u001b[49m\u001b[43mquats\u001b[49m\u001b[43m,\u001b[49m\u001b[43m \u001b[49m\u001b[43mscales\u001b[49m\u001b[43m,\u001b[49m\u001b[43m \u001b[49m\u001b[43mopacities\u001b[49m\u001b[43m,\u001b[49m\u001b[43m \u001b[49m\u001b[43mcolors\u001b[49m\u001b[43m,\u001b[49m\u001b[43m \u001b[49m\u001b[43mviewmats\u001b[49m\u001b[43m,\u001b[49m\u001b[43m \u001b[49m\u001b[43mKs\u001b[49m\u001b[43m,\u001b[49m\u001b[43m \u001b[49m\u001b[43mwidth\u001b[49m\u001b[43m,\u001b[49m\u001b[43m \u001b[49m\u001b[43mheight\u001b[49m\n\u001b[1;32m     11\u001b[0m \u001b[43m\u001b[49m\u001b[43m)\u001b[49m\n\u001b[1;32m     13\u001b[0m \u001b[38;5;28;01mreturn\u001b[39;00m render_colors, render_alphas\n",
      "File \u001b[0;32m~/workdir/gsplat/gsplat/experimental/cuda/__init__.py:99\u001b[0m, in \u001b[0;36m_rendering\u001b[0;34m(means, quats, scales, opacities, colors, viewmats, Ks, width, height)\u001b[0m\n\u001b[1;32m     96\u001b[0m \u001b[38;5;28;01mif\u001b[39;00m \u001b[38;5;28mlen\u001b[39m(gs_ids) \u001b[38;5;241m==\u001b[39m \u001b[38;5;241m0\u001b[39m:\n\u001b[1;32m     97\u001b[0m     \u001b[38;5;28;01mbreak\u001b[39;00m\n\u001b[0;32m---> 99\u001b[0m renders_step, accs_step \u001b[38;5;241m=\u001b[39m \u001b[43maccumulate\u001b[49m\u001b[43m(\u001b[49m\n\u001b[1;32m    100\u001b[0m \u001b[43m    \u001b[49m\u001b[43mmeans2d\u001b[49m\u001b[43m,\u001b[49m\n\u001b[1;32m    101\u001b[0m \u001b[43m    \u001b[49m\u001b[43mconics\u001b[49m\u001b[43m,\u001b[49m\n\u001b[1;32m    102\u001b[0m \u001b[43m    \u001b[49m\u001b[43mopacities\u001b[49m\u001b[43m,\u001b[49m\n\u001b[1;32m    103\u001b[0m \u001b[43m    \u001b[49m\u001b[43mcolors\u001b[49m\u001b[43m,\u001b[49m\n\u001b[1;32m    104\u001b[0m \u001b[43m    \u001b[49m\u001b[43mgs_ids\u001b[49m\u001b[43m,\u001b[49m\n\u001b[1;32m    105\u001b[0m \u001b[43m    \u001b[49m\u001b[43mpixel_ids\u001b[49m\u001b[43m,\u001b[49m\n\u001b[1;32m    106\u001b[0m \u001b[43m    \u001b[49m\u001b[43mcamera_ids\u001b[49m\u001b[43m,\u001b[49m\n\u001b[1;32m    107\u001b[0m \u001b[43m    \u001b[49m\u001b[43mwidth\u001b[49m\u001b[43m,\u001b[49m\n\u001b[1;32m    108\u001b[0m \u001b[43m    \u001b[49m\u001b[43mheight\u001b[49m\u001b[43m,\u001b[49m\n\u001b[1;32m    109\u001b[0m \u001b[43m    \u001b[49m\u001b[43mprefix_trans\u001b[49m\u001b[38;5;241;43m=\u001b[39;49m\u001b[43mtransmittances\u001b[49m\u001b[38;5;241;43m.\u001b[39;49m\u001b[43mfloat\u001b[49m\u001b[43m(\u001b[49m\u001b[43m)\u001b[49m\u001b[43m,\u001b[49m\n\u001b[1;32m    110\u001b[0m \u001b[43m\u001b[49m\u001b[43m)\u001b[49m\n\u001b[1;32m    111\u001b[0m render_colors \u001b[38;5;241m=\u001b[39m render_colors \u001b[38;5;241m+\u001b[39m renders_step\n\u001b[1;32m    112\u001b[0m render_alphas \u001b[38;5;241m=\u001b[39m render_alphas \u001b[38;5;241m+\u001b[39m accs_step\n",
      "File \u001b[0;32m~/workdir/gsplat/gsplat/experimental/cuda/_torch_impl.py:266\u001b[0m, in \u001b[0;36maccumulate\u001b[0;34m(means2d, conics, opacities, colors, gauss_ids, pixel_ids, camera_ids, image_width, image_height, prefix_trans)\u001b[0m\n\u001b[1;32m    264\u001b[0m pixel_ids_x \u001b[38;5;241m=\u001b[39m pixel_ids \u001b[38;5;241m%\u001b[39m image_width\n\u001b[1;32m    265\u001b[0m pixel_ids_y \u001b[38;5;241m=\u001b[39m pixel_ids \u001b[38;5;241m/\u001b[39m\u001b[38;5;241m/\u001b[39m image_width\n\u001b[0;32m--> 266\u001b[0m pixel_coords \u001b[38;5;241m=\u001b[39m \u001b[43mtorch\u001b[49m\u001b[38;5;241;43m.\u001b[39;49m\u001b[43mstack\u001b[49m\u001b[43m(\u001b[49m\u001b[43m[\u001b[49m\u001b[43mpixel_ids_x\u001b[49m\u001b[43m,\u001b[49m\u001b[43m \u001b[49m\u001b[43mpixel_ids_y\u001b[49m\u001b[43m]\u001b[49m\u001b[43m,\u001b[49m\u001b[43m \u001b[49m\u001b[43mdim\u001b[49m\u001b[38;5;241;43m=\u001b[39;49m\u001b[38;5;241;43m-\u001b[39;49m\u001b[38;5;241;43m1\u001b[39;49m\u001b[43m)\u001b[49m\u001b[43m \u001b[49m\u001b[38;5;241;43m+\u001b[39;49m\u001b[43m \u001b[49m\u001b[38;5;241;43m0.5\u001b[39;49m  \u001b[38;5;66;03m# [M, 2]\u001b[39;00m\n\u001b[1;32m    267\u001b[0m deltas \u001b[38;5;241m=\u001b[39m pixel_coords \u001b[38;5;241m-\u001b[39m means2d[camera_ids, gauss_ids]  \u001b[38;5;66;03m# [M, 2]\u001b[39;00m\n\u001b[1;32m    268\u001b[0m c \u001b[38;5;241m=\u001b[39m conics[camera_ids, gauss_ids]  \u001b[38;5;66;03m# [M, 3]\u001b[39;00m\n",
      "\u001b[0;31mOutOfMemoryError\u001b[0m: CUDA out of memory. Tried to allocate 5.42 GiB. GPU 0 has a total capacty of 39.38 GiB of which 4.62 GiB is free. Including non-PyTorch memory, this process has 34.75 GiB memory in use. Of the allocated memory 31.65 GiB is allocated by PyTorch, and 2.62 GiB is reserved by PyTorch but unallocated. If reserved but unallocated memory is large try setting max_split_size_mb to avoid fragmentation.  See documentation for Memory Management and PYTORCH_CUDA_ALLOC_CONF"
     ]
    }
   ],
   "source": [
    "render_colors, render_alphs = test_rasterize_to_pixels()"
   ]
  },
  {
   "cell_type": "code",
   "execution_count": null,
   "metadata": {},
   "outputs": [
    {
     "data": {
      "text/plain": [
       "tensor([[[[ 0.2883,  0.0519, -0.2208],\n",
       "          [ 0.2883,  0.0519, -0.2208],\n",
       "          [ 0.2883,  0.0519, -0.2208],\n",
       "          ...,\n",
       "          [ 0.2883,  0.0519, -0.2208],\n",
       "          [ 0.2883,  0.0519, -0.2208],\n",
       "          [ 0.2883,  0.0519, -0.2208]],\n",
       "\n",
       "         [[ 0.2883,  0.0519, -0.2208],\n",
       "          [ 0.2883,  0.0519, -0.2208],\n",
       "          [ 0.2883,  0.0519, -0.2208],\n",
       "          ...,\n",
       "          [ 0.2883,  0.0519, -0.2208],\n",
       "          [ 0.2883,  0.0519, -0.2208],\n",
       "          [ 0.2883,  0.0519, -0.2208]],\n",
       "\n",
       "         [[ 0.2883,  0.0519, -0.2208],\n",
       "          [ 0.2883,  0.0519, -0.2208],\n",
       "          [ 0.2883,  0.0519, -0.2208],\n",
       "          ...,\n",
       "          [ 0.2883,  0.0519, -0.2208],\n",
       "          [ 0.2883,  0.0519, -0.2208],\n",
       "          [ 0.2883,  0.0519, -0.2208]],\n",
       "\n",
       "         ...,\n",
       "\n",
       "         [[ 0.2883,  0.0519, -0.2208],\n",
       "          [ 0.2883,  0.0519, -0.2208],\n",
       "          [ 0.2883,  0.0519, -0.2208],\n",
       "          ...,\n",
       "          [ 0.2883,  0.0519, -0.2208],\n",
       "          [ 0.2883,  0.0519, -0.2208],\n",
       "          [ 0.2883,  0.0519, -0.2208]],\n",
       "\n",
       "         [[ 0.2883,  0.0519, -0.2208],\n",
       "          [ 0.2883,  0.0519, -0.2208],\n",
       "          [ 0.2883,  0.0519, -0.2208],\n",
       "          ...,\n",
       "          [ 0.2883,  0.0519, -0.2208],\n",
       "          [ 0.2883,  0.0519, -0.2208],\n",
       "          [ 0.2883,  0.0519, -0.2208]],\n",
       "\n",
       "         [[ 0.2883,  0.0519, -0.2208],\n",
       "          [ 0.2883,  0.0519, -0.2208],\n",
       "          [ 0.2883,  0.0519, -0.2208],\n",
       "          ...,\n",
       "          [ 0.2883,  0.0519, -0.2208],\n",
       "          [ 0.2883,  0.0519, -0.2208],\n",
       "          [ 0.2883,  0.0519, -0.2208]]],\n",
       "\n",
       "\n",
       "        [[[ 0.8348,  0.7478,  0.5278],\n",
       "          [ 0.8348,  0.7478,  0.5278],\n",
       "          [ 0.8348,  0.7478,  0.5278],\n",
       "          ...,\n",
       "          [ 0.8342,  0.7472,  0.5271],\n",
       "          [ 0.8342,  0.7472,  0.5271],\n",
       "          [ 0.8342,  0.7472,  0.5271]],\n",
       "\n",
       "         [[ 0.8348,  0.7478,  0.5278],\n",
       "          [ 0.8348,  0.7478,  0.5278],\n",
       "          [ 0.8348,  0.7478,  0.5278],\n",
       "          ...,\n",
       "          [ 0.8342,  0.7472,  0.5271],\n",
       "          [ 0.8342,  0.7472,  0.5271],\n",
       "          [ 0.8342,  0.7472,  0.5271]],\n",
       "\n",
       "         [[ 0.8348,  0.7478,  0.5278],\n",
       "          [ 0.8348,  0.7478,  0.5278],\n",
       "          [ 0.8348,  0.7478,  0.5278],\n",
       "          ...,\n",
       "          [ 0.8342,  0.7472,  0.5271],\n",
       "          [ 0.8342,  0.7472,  0.5271],\n",
       "          [ 0.8342,  0.7472,  0.5271]],\n",
       "\n",
       "         ...,\n",
       "\n",
       "         [[ 0.8347,  0.7477,  0.5277],\n",
       "          [ 0.8347,  0.7477,  0.5277],\n",
       "          [ 0.8347,  0.7477,  0.5277],\n",
       "          ...,\n",
       "          [ 0.8341,  0.7470,  0.5270],\n",
       "          [ 0.8341,  0.7470,  0.5270],\n",
       "          [ 0.8341,  0.7470,  0.5270]],\n",
       "\n",
       "         [[ 0.8347,  0.7477,  0.5277],\n",
       "          [ 0.8347,  0.7477,  0.5277],\n",
       "          [ 0.8347,  0.7477,  0.5277],\n",
       "          ...,\n",
       "          [ 0.8341,  0.7470,  0.5270],\n",
       "          [ 0.8341,  0.7470,  0.5270],\n",
       "          [ 0.8341,  0.7470,  0.5270]],\n",
       "\n",
       "         [[ 0.8347,  0.7477,  0.5277],\n",
       "          [ 0.8347,  0.7477,  0.5277],\n",
       "          [ 0.8347,  0.7477,  0.5277],\n",
       "          ...,\n",
       "          [ 0.8341,  0.7470,  0.5270],\n",
       "          [ 0.8341,  0.7470,  0.5270],\n",
       "          [ 0.8341,  0.7470,  0.5270]]],\n",
       "\n",
       "\n",
       "        [[[ 1.2335,  1.1875,  0.9669],\n",
       "          [ 1.2335,  1.1875,  0.9669],\n",
       "          [ 1.2335,  1.1875,  0.9669],\n",
       "          ...,\n",
       "          [ 1.2335,  1.1875,  0.9669],\n",
       "          [ 1.2335,  1.1875,  0.9669],\n",
       "          [ 1.2335,  1.1875,  0.9669]],\n",
       "\n",
       "         [[ 1.2335,  1.1875,  0.9669],\n",
       "          [ 1.2335,  1.1875,  0.9669],\n",
       "          [ 1.2335,  1.1875,  0.9669],\n",
       "          ...,\n",
       "          [ 1.2335,  1.1875,  0.9669],\n",
       "          [ 1.2335,  1.1875,  0.9669],\n",
       "          [ 1.2335,  1.1875,  0.9669]],\n",
       "\n",
       "         [[ 1.2335,  1.1875,  0.9669],\n",
       "          [ 1.2335,  1.1875,  0.9669],\n",
       "          [ 1.2335,  1.1875,  0.9669],\n",
       "          ...,\n",
       "          [ 1.2335,  1.1875,  0.9669],\n",
       "          [ 1.2335,  1.1875,  0.9669],\n",
       "          [ 1.2335,  1.1875,  0.9669]],\n",
       "\n",
       "         ...,\n",
       "\n",
       "         [[ 1.2335,  1.1875,  0.9669],\n",
       "          [ 1.2335,  1.1875,  0.9669],\n",
       "          [ 1.2335,  1.1875,  0.9669],\n",
       "          ...,\n",
       "          [ 1.2335,  1.1875,  0.9669],\n",
       "          [ 1.2335,  1.1875,  0.9669],\n",
       "          [ 1.2335,  1.1875,  0.9669]],\n",
       "\n",
       "         [[ 1.2335,  1.1875,  0.9669],\n",
       "          [ 1.2335,  1.1875,  0.9669],\n",
       "          [ 1.2335,  1.1875,  0.9669],\n",
       "          ...,\n",
       "          [ 1.2335,  1.1875,  0.9669],\n",
       "          [ 1.2335,  1.1875,  0.9669],\n",
       "          [ 1.2335,  1.1875,  0.9669]],\n",
       "\n",
       "         [[ 1.2335,  1.1875,  0.9669],\n",
       "          [ 1.2335,  1.1875,  0.9669],\n",
       "          [ 1.2335,  1.1875,  0.9669],\n",
       "          ...,\n",
       "          [ 1.2335,  1.1875,  0.9669],\n",
       "          [ 1.2335,  1.1875,  0.9669],\n",
       "          [ 1.2335,  1.1875,  0.9669]]],\n",
       "\n",
       "\n",
       "        ...,\n",
       "\n",
       "\n",
       "        [[[-0.4360, -0.7203, -1.0509],\n",
       "          [-0.4360, -0.7203, -1.0509],\n",
       "          [-0.4360, -0.7203, -1.0509],\n",
       "          ...,\n",
       "          [-0.4360, -0.7204, -1.0510],\n",
       "          [-0.4360, -0.7204, -1.0510],\n",
       "          [-0.4360, -0.7204, -1.0510]],\n",
       "\n",
       "         [[-0.4360, -0.7203, -1.0509],\n",
       "          [-0.4360, -0.7203, -1.0509],\n",
       "          [-0.4360, -0.7203, -1.0509],\n",
       "          ...,\n",
       "          [-0.4360, -0.7204, -1.0510],\n",
       "          [-0.4360, -0.7204, -1.0510],\n",
       "          [-0.4360, -0.7204, -1.0510]],\n",
       "\n",
       "         [[-0.4360, -0.7203, -1.0509],\n",
       "          [-0.4360, -0.7203, -1.0509],\n",
       "          [-0.4360, -0.7203, -1.0509],\n",
       "          ...,\n",
       "          [-0.4360, -0.7204, -1.0510],\n",
       "          [-0.4360, -0.7204, -1.0510],\n",
       "          [-0.4360, -0.7204, -1.0510]],\n",
       "\n",
       "         ...,\n",
       "\n",
       "         [[-0.4360, -0.7203, -1.0509],\n",
       "          [-0.4360, -0.7203, -1.0509],\n",
       "          [-0.4360, -0.7203, -1.0509],\n",
       "          ...,\n",
       "          [-0.4360, -0.7203, -1.0509],\n",
       "          [-0.4360, -0.7203, -1.0509],\n",
       "          [-0.4360, -0.7203, -1.0509]],\n",
       "\n",
       "         [[-0.4360, -0.7203, -1.0509],\n",
       "          [-0.4360, -0.7203, -1.0509],\n",
       "          [-0.4360, -0.7203, -1.0509],\n",
       "          ...,\n",
       "          [-0.4360, -0.7203, -1.0509],\n",
       "          [-0.4360, -0.7203, -1.0509],\n",
       "          [-0.4360, -0.7203, -1.0509]],\n",
       "\n",
       "         [[-0.4360, -0.7203, -1.0509],\n",
       "          [-0.4360, -0.7203, -1.0509],\n",
       "          [-0.4360, -0.7203, -1.0509],\n",
       "          ...,\n",
       "          [-0.4360, -0.7203, -1.0509],\n",
       "          [-0.4360, -0.7203, -1.0509],\n",
       "          [-0.4360, -0.7203, -1.0509]]],\n",
       "\n",
       "\n",
       "        [[[ 0.9979,  0.6482,  0.1787],\n",
       "          [ 0.9979,  0.6482,  0.1787],\n",
       "          [ 0.9979,  0.6482,  0.1787],\n",
       "          ...,\n",
       "          [ 0.9979,  0.6482,  0.1787],\n",
       "          [ 0.9979,  0.6482,  0.1787],\n",
       "          [ 0.9979,  0.6482,  0.1787]],\n",
       "\n",
       "         [[ 0.9979,  0.6482,  0.1787],\n",
       "          [ 0.9979,  0.6482,  0.1787],\n",
       "          [ 0.9979,  0.6482,  0.1787],\n",
       "          ...,\n",
       "          [ 0.9979,  0.6482,  0.1787],\n",
       "          [ 0.9979,  0.6482,  0.1787],\n",
       "          [ 0.9979,  0.6482,  0.1787]],\n",
       "\n",
       "         [[ 0.9979,  0.6482,  0.1787],\n",
       "          [ 0.9979,  0.6482,  0.1787],\n",
       "          [ 0.9979,  0.6482,  0.1787],\n",
       "          ...,\n",
       "          [ 0.9979,  0.6482,  0.1787],\n",
       "          [ 0.9979,  0.6482,  0.1787],\n",
       "          [ 0.9979,  0.6482,  0.1787]],\n",
       "\n",
       "         ...,\n",
       "\n",
       "         [[ 0.9979,  0.6482,  0.1787],\n",
       "          [ 0.9979,  0.6482,  0.1787],\n",
       "          [ 0.9979,  0.6482,  0.1787],\n",
       "          ...,\n",
       "          [ 0.9979,  0.6482,  0.1787],\n",
       "          [ 0.9979,  0.6482,  0.1787],\n",
       "          [ 0.9979,  0.6482,  0.1787]],\n",
       "\n",
       "         [[ 0.9979,  0.6482,  0.1787],\n",
       "          [ 0.9979,  0.6482,  0.1787],\n",
       "          [ 0.9979,  0.6482,  0.1787],\n",
       "          ...,\n",
       "          [ 0.9979,  0.6482,  0.1787],\n",
       "          [ 0.9979,  0.6482,  0.1787],\n",
       "          [ 0.9979,  0.6482,  0.1787]],\n",
       "\n",
       "         [[ 0.9979,  0.6482,  0.1787],\n",
       "          [ 0.9979,  0.6482,  0.1787],\n",
       "          [ 0.9979,  0.6482,  0.1787],\n",
       "          ...,\n",
       "          [ 0.9979,  0.6482,  0.1787],\n",
       "          [ 0.9979,  0.6482,  0.1787],\n",
       "          [ 0.9979,  0.6482,  0.1787]]],\n",
       "\n",
       "\n",
       "        [[[ 2.5265,  2.5015,  2.8415],\n",
       "          [ 2.5265,  2.5015,  2.8415],\n",
       "          [ 2.5265,  2.5015,  2.8415],\n",
       "          ...,\n",
       "          [ 2.5265,  2.5015,  2.8415],\n",
       "          [ 2.5265,  2.5015,  2.8415],\n",
       "          [ 2.5265,  2.5015,  2.8415]],\n",
       "\n",
       "         [[ 2.5265,  2.5015,  2.8415],\n",
       "          [ 2.5265,  2.5015,  2.8415],\n",
       "          [ 2.5265,  2.5015,  2.8415],\n",
       "          ...,\n",
       "          [ 2.5265,  2.5015,  2.8415],\n",
       "          [ 2.5265,  2.5015,  2.8415],\n",
       "          [ 2.5265,  2.5015,  2.8415]],\n",
       "\n",
       "         [[ 2.5265,  2.5015,  2.8415],\n",
       "          [ 2.5265,  2.5015,  2.8415],\n",
       "          [ 2.5265,  2.5015,  2.8415],\n",
       "          ...,\n",
       "          [ 2.5265,  2.5015,  2.8415],\n",
       "          [ 2.5265,  2.5015,  2.8415],\n",
       "          [ 2.5265,  2.5015,  2.8415]],\n",
       "\n",
       "         ...,\n",
       "\n",
       "         [[ 2.5265,  2.5015,  2.8415],\n",
       "          [ 2.5265,  2.5015,  2.8415],\n",
       "          [ 2.5265,  2.5015,  2.8415],\n",
       "          ...,\n",
       "          [ 2.5265,  2.5015,  2.8415],\n",
       "          [ 2.5265,  2.5015,  2.8415],\n",
       "          [ 2.5265,  2.5015,  2.8415]],\n",
       "\n",
       "         [[ 2.5265,  2.5015,  2.8415],\n",
       "          [ 2.5265,  2.5015,  2.8415],\n",
       "          [ 2.5265,  2.5015,  2.8415],\n",
       "          ...,\n",
       "          [ 2.5265,  2.5015,  2.8415],\n",
       "          [ 2.5265,  2.5015,  2.8415],\n",
       "          [ 2.5265,  2.5015,  2.8415]],\n",
       "\n",
       "         [[ 2.5265,  2.5015,  2.8415],\n",
       "          [ 2.5265,  2.5015,  2.8415],\n",
       "          [ 2.5265,  2.5015,  2.8415],\n",
       "          ...,\n",
       "          [ 2.5265,  2.5015,  2.8415],\n",
       "          [ 2.5265,  2.5015,  2.8415],\n",
       "          [ 2.5265,  2.5015,  2.8415]]]], device='cuda:0',\n",
       "       grad_fn=<AddBackward0>)"
      ]
     },
     "execution_count": 14,
     "metadata": {},
     "output_type": "execute_result"
    }
   ],
   "source": [
    "render_colors"
   ]
  },
  {
   "cell_type": "code",
   "execution_count": null,
   "metadata": {},
   "outputs": [
    {
     "data": {
      "text/plain": [
       "torch.Size([929, 360, 480, 3])"
      ]
     },
     "execution_count": 12,
     "metadata": {},
     "output_type": "execute_result"
    }
   ],
   "source": [
    "render_colors.shape"
   ]
  },
  {
   "cell_type": "code",
   "execution_count": null,
   "metadata": {},
   "outputs": [
    {
     "name": "stdout",
     "output_type": "stream",
     "text": [
      "IMAGE SHAPE: (360, 480, 3)\n"
     ]
    }
   ],
   "source": [
    "import matplotlib.pyplot as plt\n",
    "\n",
    "first_image = render_colors[0].detach().cpu().numpy()\n",
    "\n",
    "print(\"IMAGE SHAPE:\", first_image.shape)\n"
   ]
  },
  {
   "cell_type": "code",
   "execution_count": null,
   "metadata": {},
   "outputs": [
    {
     "name": "stderr",
     "output_type": "stream",
     "text": [
      "Clipping input data to the valid range for imshow with RGB data ([0..1] for floats or [0..255] for integers).\n"
     ]
    },
    {
     "name": "stdout",
     "output_type": "stream",
     "text": [
      "TRANSPOSED: (360, 480, 3)\n"
     ]
    },
    {
     "data": {
      "text/plain": [
       "(-0.5, 479.5, 359.5, -0.5)"
      ]
     },
     "execution_count": 15,
     "metadata": {},
     "output_type": "execute_result"
    },
    {
     "data": {
      "image/png": "[encoded data removed]",
      "text/plain": [
       "<Figure size 640x480 with 1 Axes>"
      ]
     },
     "metadata": {},
     "output_type": "display_data"
    }
   ],
   "source": [
    "\n",
    "# Transpose the image if needed (e.g., if it is in CHW format)\n",
    "first_image = np.transpose(first_image, (0, 1, 2))  # Adjust transpose order based on your needs\n",
    "\n",
    "# Print transposed shape\n",
    "print(\"TRANSPOSED:\", first_image.shape)\n",
    "\n",
    "# Plot the transposed image\n",
    "plt.imshow(first_image)\n",
    "plt.axis('off')  # Turn off axis numbers and ticks"
   ]
  }
 ],
 "metadata": {
  "kernelspec": {
   "display_name": "pytorch",
   "language": "python",
   "name": "python3"
  },
  "language_info": {
   "codemirror_mode": {
    "name": "ipython",
    "version": 3
   },
   "file_extension": ".py",
   "mimetype": "text/x-python",
   "name": "python",
   "nbconvert_exporter": "python",
   "pygments_lexer": "ipython3",
   "version": "3.8.19"
  }
 },
 "nbformat": 4,
 "nbformat_minor": 2
}
