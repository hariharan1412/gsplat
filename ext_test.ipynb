{
 "cells": [
  {
   "cell_type": "code",
   "execution_count": 1,
   "metadata": {},
   "outputs": [],
   "source": [
    "import torch\n",
    "from gsplat.project_gaussians import project_gaussians"
   ]
  },
  {
   "cell_type": "code",
   "execution_count": 2,
   "metadata": {},
   "outputs": [],
   "source": [
    "to_tensor = lambda x : torch.tensor(x, dtype=torch.float).to(device='cuda')\n",
    "\n",
    "scale_activate = lambda x : torch.exp(x)\n",
    "rot_normalize = lambda x : x / x.norm(dim=-1, keepdim=True)\n",
    "\n",
    "_xyz = [ -1.6114, -52.7745,  25.7178]\n",
    "_scale = [-1.5645, -1.5645, -1.5645]\n",
    "_rot = [0.3277, 0.1174, 0.6795, 0.6458]\n",
    "\n",
    "_rot[0], _rot[1], _rot[2], _rot[3] = _rot[3], _rot[0], _rot[1], _rot[2]\n",
    "\n",
    "# ===============\n",
    "\n",
    "BLOCK_WIDTH = 16\n",
    "\n",
    "W, H   = (1080, 1920)\n",
    "fx, fy = (1406.5775627775, 1406.5775627775)\n",
    "cx, cy = (W / 2, H / 2)\n",
    "viewmat = to_tensor(\n",
    "   [[ 9.9999e-01,  2.0965e-03, -3.9813e-03, -2.6973e+00],\n",
    "    [-2.1137e-03,  9.9999e-01, -4.3284e-03,  7.8322e-01],\n",
    "    [ 3.9722e-03,  4.3367e-03,  9.9998e-01, -3.6006e+00],\n",
    "    [ 0.0000e+00,  0.0000e+00,  0.0000e+00,  1.0000e+00]]\n",
    ")\n",
    "xyz   = to_tensor([_xyz])\n",
    "scale = to_tensor([_scale])\n",
    "rot   = to_tensor([_rot])\n",
    "\n",
    "xys, depths, radii, conics, _, num_tiles_hit, _ = project_gaussians(\n",
    "    means3d = xyz,\n",
    "    scales = scale_activate(scale),\n",
    "    glob_scale = 1,\n",
    "    quats = rot_normalize(rot),\n",
    "    viewmat = viewmat,\n",
    "    fx = fx,\n",
    "    fy = fy,\n",
    "    cx = cx,\n",
    "    cy = cy,\n",
    "    img_width = W,\n",
    "    img_height = H,\n",
    "    block_width = BLOCK_WIDTH,\n",
    ")"
   ]
  },
  {
   "cell_type": "code",
   "execution_count": 3,
   "metadata": {},
   "outputs": [
    {
     "name": "stdout",
     "output_type": "stream",
     "text": [
      "=> xys    = tensor([[0., 0.]], device='cuda:0')\n",
      "=> depths = tensor([0.], device='cuda:0')\n",
      "=> radii  = tensor([0], device='cuda:0', dtype=torch.int32)\n",
      "=> conics = tensor([[ 0.0054, -0.0006,  0.0031]], device='cuda:0')\n",
      "=> tiles  = tensor([0], device='cuda:0', dtype=torch.int32)\n"
     ]
    }
   ],
   "source": [
    "print(f\"=> xys    = {xys}\")\n",
    "print(f\"=> depths = {depths}\")\n",
    "print(f\"=> radii  = {radii}\")\n",
    "print(f\"=> conics = {conics}\")\n",
    "print(f\"=> tiles  = {num_tiles_hit}\")"
   ]
  }
 ],
 "metadata": {
  "kernelspec": {
   "display_name": "pytorch",
   "language": "python",
   "name": "python3"
  },
  "language_info": {
   "codemirror_mode": {
    "name": "ipython",
    "version": 3
   },
   "file_extension": ".py",
   "mimetype": "text/x-python",
   "name": "python",
   "nbconvert_exporter": "python",
   "pygments_lexer": "ipython3",
   "version": "3.8.19"
  }
 },
 "nbformat": 4,
 "nbformat_minor": 2
}
