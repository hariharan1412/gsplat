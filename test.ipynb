{
 "cells": [
  {
   "cell_type": "code",
   "execution_count": 7,
   "metadata": {},
   "outputs": [],
   "source": [
    "import math\n",
    "\n",
    "import numpy as np\n",
    "import pytest\n",
    "import torch\n",
    "import torch.nn.functional as F\n",
    "\n",
    "device = torch.device(\"cuda:0\")"
   ]
  },
  {
   "cell_type": "code",
   "execution_count": 16,
   "metadata": {},
   "outputs": [],
   "source": [
    "def test_rasterize_to_pixels():\n",
    "    from gsplat.experimental.cuda import _rendering, _rendering_gsplat, rendering, quat_scale_to_covar_perci, projection, isect_tiles, isect_offset_encode, rasterize_to_pixels\n",
    "\n",
    "    data_path = \"/home/ubuntu/workdir/gsplat/DATA/new.npz\"\n",
    "    data = np.load(data_path)  # 3 cameras\n",
    "    height, width = data[\"height\"].item(), data[\"width\"].item()\n",
    "    viewmats = torch.from_numpy(data[\"viewmats\"]).to(device)\n",
    "    Ks = torch.from_numpy(data[\"Ks\"]).to(device)\n",
    "\n",
    "    means = torch.from_numpy(data[\"means3d\"]).to(device)\n",
    "    \n",
    "    scales = torch.from_numpy(data[\"scales\"]).to(device)\n",
    "\n",
    "    quats = torch.from_numpy(data[\"quats\"]).to(device) \n",
    "        \n",
    "    opacities = torch.from_numpy(data[\"opacities\"]).to(device) \n",
    "    opacities = opacities.squeeze()\n",
    "\n",
    "    \n",
    "    Ks = torch.tensor([[320.0, 0.0, 320.0],\n",
    "                       [0.0, 320.0, 320.0],\n",
    "                       [0.0, 0.0, 1.0]]).unsqueeze(0).to(device=device)  # Single camera matrix\n",
    "    N = data[\"viewmats\"].shape[0]  # Assuming viewmats is [C, 4, 4]\n",
    "    Ks = Ks.repeat(N, 1, 1)  \n",
    "\n",
    "\n",
    "    colors = torch.from_numpy(data[\"colors\"]).to(device)\n",
    "    colors = colors.unsqueeze(0).repeat(N, 1, 1)\n",
    "\n",
    "    C = len(Ks)\n",
    "\n",
    "    viewmats.requires_grad = True\n",
    "    quats.requires_grad = True\n",
    "    scales.requires_grad = True\n",
    "    means.requires_grad = True\n",
    "\n",
    "    render_colors, render_alphas = rendering(\n",
    "        means, quats, scales, opacities, colors, viewmats, Ks, width, height\n",
    "    )\n",
    "    \n",
    "    return render_colors, render_alphas"
   ]
  },
  {
   "cell_type": "code",
   "execution_count": 17,
   "metadata": {},
   "outputs": [
    {
     "name": "stdout",
     "output_type": "stream",
     "text": [
      "torch.Size([2, 5000, 3])\n"
     ]
    }
   ],
   "source": [
    "render_colors, render_alphs = test_rasterize_to_pixels()"
   ]
  },
  {
   "cell_type": "code",
   "execution_count": 18,
   "metadata": {},
   "outputs": [
    {
     "name": "stderr",
     "output_type": "stream",
     "text": [
      "Clipping input data to the valid range for imshow with RGB data ([0..1] for floats or [0..255] for integers).\n"
     ]
    },
    {
     "name": "stdout",
     "output_type": "stream",
     "text": [
      "IMAGE SHAPE: (640, 640, 3)\n",
      "TRANSPOSED: (640, 640, 3)\n"
     ]
    },
    {
     "data": {
      "image/png": "[encoded data removed]",
      "text/plain": [
       "<Figure size 640x480 with 1 Axes>"
      ]
     },
     "metadata": {},
     "output_type": "display_data"
    }
   ],
   "source": [
    "import matplotlib.pyplot as plt\n",
    "\n",
    "first_image = render_colors[0].detach().cpu().numpy()\n",
    "\n",
    "print(\"IMAGE SHAPE:\", first_image.shape)\n",
    "\n",
    "# Transpose the image if needed (e.g., if it is in CHW format)\n",
    "first_image = np.transpose(first_image, ( 0, 1 , 2))  # Adjust transpose order based on your needs\n",
    "\n",
    "# Print transposed shape\n",
    "print(\"TRANSPOSED:\", first_image.shape)\n",
    "\n",
    "# Plot the transposed image\n",
    "plt.imshow(first_image)\n",
    "plt.axis('off')  # Turn off axis numbers and ticks\n",
    "plt.show()"
   ]
  }
 ],
 "metadata": {
  "kernelspec": {
   "display_name": "gsplat",
   "language": "python",
   "name": "python3"
  },
  "language_info": {
   "codemirror_mode": {
    "name": "ipython",
    "version": 3
   },
   "file_extension": ".py",
   "mimetype": "text/x-python",
   "name": "python",
   "nbconvert_exporter": "python",
   "pygments_lexer": "ipython3",
   "version": "3.8.19"
  }
 },
 "nbformat": 4,
 "nbformat_minor": 2
}
